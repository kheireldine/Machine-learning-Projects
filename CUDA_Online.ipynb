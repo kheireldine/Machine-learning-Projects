{
  "nbformat": 4,
  "nbformat_minor": 0,
  "metadata": {
    "colab": {
      "name": "CUDA_Online.ipynb",
      "provenance": [],
      "authorship_tag": "ABX9TyNBJrw6AHmlSXVuTqGnyMdM",
      "include_colab_link": true
    },
    "kernelspec": {
      "name": "python3",
      "display_name": "Python 3"
    },
    "language_info": {
      "name": "python"
    },
    "accelerator": "GPU"
  },
  "cells": [
    {
      "cell_type": "markdown",
      "metadata": {
        "id": "view-in-github",
        "colab_type": "text"
      },
      "source": [
        "<a href=\"https://colab.research.google.com/github/kheireldine/Machine-learning-Projects/blob/main/CUDA_Online.ipynb\" target=\"_parent\"><img src=\"https://colab.research.google.com/assets/colab-badge.svg\" alt=\"Open In Colab\"/></a>"
      ]
    },
    {
      "cell_type": "markdown",
      "metadata": {
        "id": "MKZhdyvCCtXf"
      },
      "source": [
        "# CUDA"
      ]
    },
    {
      "cell_type": "code",
      "metadata": {
        "colab": {
          "base_uri": "https://localhost:8080/"
        },
        "id": "REdZsGvICmgz",
        "outputId": "7f20e5b6-67a6-4d1a-cc1e-3122994399a7"
      },
      "source": [
        "!nvcc --version"
      ],
      "execution_count": 1,
      "outputs": [
        {
          "output_type": "stream",
          "name": "stdout",
          "text": [
            "nvcc: NVIDIA (R) Cuda compiler driver\n",
            "Copyright (c) 2005-2020 NVIDIA Corporation\n",
            "Built on Mon_Oct_12_20:09:46_PDT_2020\n",
            "Cuda compilation tools, release 11.1, V11.1.105\n",
            "Build cuda_11.1.TC455_06.29190527_0\n"
          ]
        }
      ]
    },
    {
      "cell_type": "code",
      "metadata": {
        "colab": {
          "base_uri": "https://localhost:8080/"
        },
        "id": "mHBxfvSRDHTr",
        "outputId": "9a11bc45-ae15-41f5-9d9d-a2e3120054f4"
      },
      "source": [
        "!pip install git+git://github.com/andreinechaev/nvcc4jupyter"
      ],
      "execution_count": 4,
      "outputs": [
        {
          "output_type": "stream",
          "name": "stdout",
          "text": [
            "Collecting git+git://github.com/andreinechaev/nvcc4jupyter\n",
            "  Cloning git://github.com/andreinechaev/nvcc4jupyter to /tmp/pip-req-build-43k8z93u\n",
            "  Running command git clone -q git://github.com/andreinechaev/nvcc4jupyter /tmp/pip-req-build-43k8z93u\n",
            "Building wheels for collected packages: NVCCPlugin\n",
            "  Building wheel for NVCCPlugin (setup.py) ... \u001b[?25l\u001b[?25hdone\n",
            "  Created wheel for NVCCPlugin: filename=NVCCPlugin-0.0.2-py3-none-any.whl size=4305 sha256=0de0cf018e20eeddd8175593f074f9839bb49f1a8e0b67f0a29285a6e4cb7c0e\n",
            "  Stored in directory: /tmp/pip-ephem-wheel-cache-x96yesy5/wheels/6c/ca/66/f1deb8089d68d4acbf421e7f444d5d7dd2e3016d841604258e\n",
            "Successfully built NVCCPlugin\n",
            "Installing collected packages: NVCCPlugin\n",
            "Successfully installed NVCCPlugin-0.0.2\n"
          ]
        }
      ]
    },
    {
      "cell_type": "code",
      "metadata": {
        "colab": {
          "base_uri": "https://localhost:8080/"
        },
        "id": "J6VbejelD4GO",
        "outputId": "5b21cc14-0a7a-4ce5-ac0d-69724e09c360"
      },
      "source": [
        "%load_ext nvcc_plugin"
      ],
      "execution_count": 6,
      "outputs": [
        {
          "output_type": "stream",
          "name": "stdout",
          "text": [
            "created output directory at /content/src\n",
            "Out bin /content/result.out\n"
          ]
        }
      ]
    }
  ]
}