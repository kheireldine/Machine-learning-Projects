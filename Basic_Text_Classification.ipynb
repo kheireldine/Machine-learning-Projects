{
  "nbformat": 4,
  "nbformat_minor": 0,
  "metadata": {
    "colab": {
      "name": "Basic Text Classification.ipynb",
      "provenance": [],
      "collapsed_sections": [],
      "authorship_tag": "ABX9TyO/z1CophVJfaKIFxf0eQGm",
      "include_colab_link": true
    },
    "kernelspec": {
      "name": "python3",
      "display_name": "Python 3"
    },
    "language_info": {
      "name": "python"
    }
  },
  "cells": [
    {
      "cell_type": "markdown",
      "metadata": {
        "id": "view-in-github",
        "colab_type": "text"
      },
      "source": [
        "<a href=\"https://colab.research.google.com/github/kheireldine/Machine-learning-Projects/blob/main/Basic_Text_Classification.ipynb\" target=\"_parent\"><img src=\"https://colab.research.google.com/assets/colab-badge.svg\" alt=\"Open In Colab\"/></a>"
      ]
    },
    {
      "cell_type": "markdown",
      "metadata": {
        "id": "7lcSspRR6SIY"
      },
      "source": [
        "# Basic Text Classification \n",
        "In this model we will be working on IMDB dataset"
      ]
    },
    {
      "cell_type": "markdown",
      "metadata": {
        "id": "VFoE8NFX6hxw"
      },
      "source": [
        "Firstly, we will add the required Libraries for this project."
      ]
    },
    {
      "cell_type": "code",
      "metadata": {
        "id": "ECC9YNgp532i"
      },
      "source": [
        "import matplotlib.pyplot as plt\n",
        "import os\n",
        "import re\n",
        "import shutil\n",
        "import string\n",
        "import tensorflow as tf\n",
        "\n",
        "from tensorflow.keras import layers\n",
        "from tensorflow.keras import losses\n",
        "from tensorflow.keras import preprocessing"
      ],
      "execution_count": 1,
      "outputs": []
    },
    {
      "cell_type": "markdown",
      "metadata": {
        "id": "pqZ2__Gj6wCO"
      },
      "source": [
        "We are trying in this project to do the sentiment analysis on website reviews.\n",
        "Note that we are making a binary classifier and we have only 2 classes are Positive and Negative."
      ]
    },
    {
      "cell_type": "code",
      "metadata": {
        "id": "gL7wqfGg6_T1"
      },
      "source": [
        ""
      ],
      "execution_count": null,
      "outputs": []
    }
  ]
}